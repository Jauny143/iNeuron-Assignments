{
  "nbformat": 4,
  "nbformat_minor": 0,
  "metadata": {
    "colab": {
      "name": "Assignment1 (iNeuron).ipynb",
      "provenance": [],
      "authorship_tag": "ABX9TyOj3TucvJU0sRFGjdQTKY1b",
      "include_colab_link": true
    },
    "kernelspec": {
      "display_name": "Python 3",
      "name": "python3"
    },
    "accelerator": "GPU"
  },
  "cells": [
    {
      "cell_type": "markdown",
      "metadata": {
        "id": "view-in-github",
        "colab_type": "text"
      },
      "source": [
        "<a href=\"https://colab.research.google.com/github/Jauny143/iNeuron-Assignments/blob/main/Assignment1_(iNeuron).ipynb\" target=\"_parent\"><img src=\"https://colab.research.google.com/assets/colab-badge.svg\" alt=\"Open In Colab\"/></a>"
      ]
    },
    {
      "cell_type": "markdown",
      "metadata": {
        "id": "ppmPN34z9XgV"
      },
      "source": [
        "**Solution of Assignment 1 (Basic Python -- iNeuron)**\n",
        "\n"
      ]
    },
    {
      "cell_type": "markdown",
      "metadata": {
        "id": "uVK6JyXPonTW"
      },
      "source": [
        "\n",
        "\n",
        "**Solution 1**:\n",
        "\n",
        "*  Values     : 'hello', -87.8, 6   \n",
        "*  expression :  *, -, /, +\n",
        "\n",
        "\n",
        "                \n"
      ]
    },
    {
      "cell_type": "markdown",
      "metadata": {
        "id": "88ApLkGwJRAb"
      },
      "source": [
        "**Solution 2:** A variable is a repository of information and a string is a type of information that is stored in a variable. \n",
        "\n",
        "For example: x = \"My name is Jauny\"\n",
        "\n",
        "Here we declare the variable name x to the string \"My name is Jauny\".\n",
        "\n",
        "\n",
        "\n"
      ]
    },
    {
      "cell_type": "markdown",
      "metadata": {
        "id": "zRIG8d_wMdE4"
      },
      "source": [
        "**Solution 3** Generally, there are many types of data in python. Three of them are 'int' type, 'float' type and 'str' type. 'int' type data contain all the integers, 'float' type data contain all decimal values and 'str' type data contain sequnce of characters."
      ]
    },
    {
      "cell_type": "markdown",
      "metadata": {
        "id": "Llgjk-vgsQnH"
      },
      "source": [
        "**Soluton 4:** An expression is made up of values, variables, operators and call of functions. If we type an expression on the command line, the interpreter evaluates it and displays the output of the expression."
      ]
    },
    {
      "cell_type": "markdown",
      "metadata": {
        "id": "pqqXoiU-e6SH"
      },
      "source": [
        "**Solution 5:** \n",
        "\n",
        "* Expressions are evaluated to compute their value. Literal values, variables, binary operations, and function calls are examples of expressions.\n",
        "*  Statements are executed to take some action. Variable assignments, loops, conditionals, and raising exceptions are examples of statements.\n",
        "\n",
        "\n",
        "\n"
      ]
    },
    {
      "cell_type": "markdown",
      "metadata": {
        "id": "m2Mk_nkqfCFF"
      },
      "source": [
        "**Solution 6:**"
      ]
    },
    {
      "cell_type": "code",
      "metadata": {
        "id": "HyLnQK1CfIKh"
      },
      "source": [
        "bacon=22"
      ],
      "execution_count": null,
      "outputs": []
    },
    {
      "cell_type": "code",
      "metadata": {
        "colab": {
          "base_uri": "https://localhost:8080/"
        },
        "id": "tBtipYiGfKoC",
        "outputId": "c0ba8c76-938c-45b5-b51b-986d561f27ad"
      },
      "source": [
        "bacon+1"
      ],
      "execution_count": null,
      "outputs": [
        {
          "output_type": "execute_result",
          "data": {
            "text/plain": [
              "23"
            ]
          },
          "metadata": {
            "tags": []
          },
          "execution_count": 2
        }
      ]
    },
    {
      "cell_type": "markdown",
      "metadata": {
        "id": "F4wQe86MfgDI"
      },
      "source": [
        "**Solution 7:** the values of 'spam'+'spamspam' and 'spam'*3 will be 'spamspamspam'."
      ]
    },
    {
      "cell_type": "code",
      "metadata": {
        "colab": {
          "base_uri": "https://localhost:8080/",
          "height": 35
        },
        "id": "2boQvYwlf_-C",
        "outputId": "8f1ecff7-f71f-4072-8403-2970788b91e1"
      },
      "source": [
        "'spam'+'spamspam'"
      ],
      "execution_count": null,
      "outputs": [
        {
          "output_type": "execute_result",
          "data": {
            "application/vnd.google.colaboratory.intrinsic+json": {
              "type": "string"
            },
            "text/plain": [
              "'spamspamspam'"
            ]
          },
          "metadata": {
            "tags": []
          },
          "execution_count": 3
        }
      ]
    },
    {
      "cell_type": "code",
      "metadata": {
        "colab": {
          "base_uri": "https://localhost:8080/",
          "height": 35
        },
        "id": "qNP9T_LTf-iA",
        "outputId": "647a4b21-5d90-41a2-d079-f07c42a0a23d"
      },
      "source": [
        "'spam'*3"
      ],
      "execution_count": null,
      "outputs": [
        {
          "output_type": "execute_result",
          "data": {
            "application/vnd.google.colaboratory.intrinsic+json": {
              "type": "string"
            },
            "text/plain": [
              "'spamspamspam'"
            ]
          },
          "metadata": {
            "tags": []
          },
          "execution_count": 4
        }
      ]
    },
    {
      "cell_type": "markdown",
      "metadata": {
        "id": "NwzyDSANgNUr"
      },
      "source": [
        "**Solution 8:** Variables name never start by a number therefore the variable name eggs is valid and 100 is invaid."
      ]
    },
    {
      "cell_type": "markdown",
      "metadata": {
        "id": "UDbitG6Qg4co"
      },
      "source": [
        "**Solution 9:** Three functions are int(), float(), str()."
      ]
    },
    {
      "cell_type": "markdown",
      "metadata": {
        "id": "Io40j4RChLyo"
      },
      "source": [
        "**Solution 10:** we can not perform the operator + between string and int value. If we want to perform this operator then we have to convert int value into str type."
      ]
    },
    {
      "cell_type": "code",
      "metadata": {
        "colab": {
          "base_uri": "https://localhost:8080/",
          "height": 35
        },
        "id": "Yhdpm3yEh7UE",
        "outputId": "71700bcb-ab06-4e5b-c8a5-be1bf282d948"
      },
      "source": [
        "'I have eaten' +' 99 '+'burritos'"
      ],
      "execution_count": null,
      "outputs": [
        {
          "output_type": "execute_result",
          "data": {
            "application/vnd.google.colaboratory.intrinsic+json": {
              "type": "string"
            },
            "text/plain": [
              "'I have eaten 99 burritos'"
            ]
          },
          "metadata": {
            "tags": []
          },
          "execution_count": 7
        }
      ]
    }
  ]
}