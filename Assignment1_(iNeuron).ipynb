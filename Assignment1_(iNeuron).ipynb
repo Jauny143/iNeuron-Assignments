{
  "nbformat": 4,
  "nbformat_minor": 0,
  "metadata": {
    "colab": {
      "name": "Assignment1 (iNeuron).ipynb",
      "provenance": [],
      "authorship_tag": "ABX9TyOF7C8vf0Gn0nb9p4QluOKR",
      "include_colab_link": true
    },
    "kernelspec": {
      "display_name": "Python 3",
      "name": "python3"
    },
    "accelerator": "GPU"
  },
  "cells": [
    {
      "cell_type": "markdown",
      "metadata": {
        "id": "view-in-github",
        "colab_type": "text"
      },
      "source": [
        "<a href=\"https://colab.research.google.com/github/Jauny143/iNeuron-Assignments/blob/main/Assignment1_(iNeuron).ipynb\" target=\"_parent\"><img src=\"https://colab.research.google.com/assets/colab-badge.svg\" alt=\"Open In Colab\"/></a>"
      ]
    },
    {
      "cell_type": "markdown",
      "metadata": {
        "id": "ppmPN34z9XgV"
      },
      "source": [
        "**Solution of Assignment 1 (Basic Python -- iNeuron)**\n",
        "\n"
      ]
    },
    {
      "cell_type": "markdown",
      "metadata": {
        "id": "uVK6JyXPonTW"
      },
      "source": [
        "\n",
        "\n",
        "**Solution 1**: The operators are performed on different types of values to obtain a new output. In this problem, the operators are *, -, / and +, and the values are 'hello', -87.8 and 6. Moreover,\n",
        "\n",
        "\n",
        "1.   \\*  $\\rightarrow$ Multiplication operator\n",
        "\n",
        "2.  \\- $\\rightarrow$ Difference operator\n",
        "\n",
        "1.   / $\\rightarrow$ Division operator\n",
        "2.   \\+ $\\rightarrow$ Addition operator\n",
        "\n",
        "Also, 'hello', -87.8 and 6 are str type, float type and int type values respectively.\n",
        "\n",
        "\n",
        "\n",
        "\n",
        "\n",
        "\n",
        "\n",
        "\n",
        "\n",
        "\n",
        "\n",
        "\n",
        "\n"
      ]
    },
    {
      "cell_type": "markdown",
      "metadata": {
        "id": "88ApLkGwJRAb"
      },
      "source": [
        "**Solution 2:** String is a type of data which contains characters and variables is a place where we can store the values such as intergers, float, string etc. String types data are written inside the commas like 'Jauny'. Hence, spam is a variable name and 'spam' is a string type data. \n"
      ]
    },
    {
      "cell_type": "markdown",
      "metadata": {
        "id": "zRIG8d_wMdE4"
      },
      "source": [
        "**Solution 3** Generally, there are many types of data in python. Three of them are 'int' type, 'float' type and 'str' type. 'int' type data contain all the integers, 'float' type data contain all decimal values and 'str' type data contain sequnce of characters."
      ]
    },
    {
      "cell_type": "markdown",
      "metadata": {
        "id": "Llgjk-vgsQnH"
      },
      "source": [
        "**Soluton 4:** An expression is made up of values, variables, operators and call of functions. If we type an expression on the command line, the interpreter evaluates it and displays the output of the expression."
      ]
    },
    {
      "cell_type": "markdown",
      "metadata": {
        "id": "pqqXoiU-e6SH"
      },
      "source": [
        "**Solution 5:** An expression evaluates to a value. A statement does something. Statements represent an action or command e.g print statements, assignment statements. Expression is a combination of variables, operations and values that yields a result value.\n",
        "\n"
      ]
    },
    {
      "cell_type": "markdown",
      "metadata": {
        "id": "m2Mk_nkqfCFF"
      },
      "source": [
        "**Solution 6:**"
      ]
    },
    {
      "cell_type": "code",
      "metadata": {
        "id": "HyLnQK1CfIKh"
      },
      "source": [
        "bacon=22"
      ],
      "execution_count": null,
      "outputs": []
    },
    {
      "cell_type": "code",
      "metadata": {
        "colab": {
          "base_uri": "https://localhost:8080/"
        },
        "id": "tBtipYiGfKoC",
        "outputId": "c0ba8c76-938c-45b5-b51b-986d561f27ad"
      },
      "source": [
        "bacon+1"
      ],
      "execution_count": null,
      "outputs": [
        {
          "output_type": "execute_result",
          "data": {
            "text/plain": [
              "23"
            ]
          },
          "metadata": {
            "tags": []
          },
          "execution_count": 2
        }
      ]
    },
    {
      "cell_type": "markdown",
      "metadata": {
        "id": "F4wQe86MfgDI"
      },
      "source": [
        "**Solution 7:** the values of 'spam'+'spamspam' and 'spam'*3 will be 'spamspamspam'."
      ]
    },
    {
      "cell_type": "code",
      "metadata": {
        "colab": {
          "base_uri": "https://localhost:8080/",
          "height": 35
        },
        "id": "2boQvYwlf_-C",
        "outputId": "8f1ecff7-f71f-4072-8403-2970788b91e1"
      },
      "source": [
        "'spam'+'spamspam'"
      ],
      "execution_count": null,
      "outputs": [
        {
          "output_type": "execute_result",
          "data": {
            "application/vnd.google.colaboratory.intrinsic+json": {
              "type": "string"
            },
            "text/plain": [
              "'spamspamspam'"
            ]
          },
          "metadata": {
            "tags": []
          },
          "execution_count": 3
        }
      ]
    },
    {
      "cell_type": "code",
      "metadata": {
        "colab": {
          "base_uri": "https://localhost:8080/",
          "height": 35
        },
        "id": "qNP9T_LTf-iA",
        "outputId": "647a4b21-5d90-41a2-d079-f07c42a0a23d"
      },
      "source": [
        "'spam'*3"
      ],
      "execution_count": null,
      "outputs": [
        {
          "output_type": "execute_result",
          "data": {
            "application/vnd.google.colaboratory.intrinsic+json": {
              "type": "string"
            },
            "text/plain": [
              "'spamspamspam'"
            ]
          },
          "metadata": {
            "tags": []
          },
          "execution_count": 4
        }
      ]
    },
    {
      "cell_type": "markdown",
      "metadata": {
        "id": "NwzyDSANgNUr"
      },
      "source": [
        "**Solution 8:** Variables name never start from a number, special characters and therefore the variable name eggs is valid and 100 is invaid."
      ]
    },
    {
      "cell_type": "markdown",
      "metadata": {
        "id": "UDbitG6Qg4co"
      },
      "source": [
        "**Solution 9:** Three functions are int(), float(), str()."
      ]
    },
    {
      "cell_type": "markdown",
      "metadata": {
        "id": "Io40j4RChLyo"
      },
      "source": [
        "**Solution 10:** we can not perform the operator + between string and int value. If we want to perform this operator then we have to convert int value into str type."
      ]
    },
    {
      "cell_type": "code",
      "metadata": {
        "colab": {
          "base_uri": "https://localhost:8080/",
          "height": 35
        },
        "id": "Yhdpm3yEh7UE",
        "outputId": "71700bcb-ab06-4e5b-c8a5-be1bf282d948"
      },
      "source": [
        "'I have eaten' +' 99 '+'burritos'"
      ],
      "execution_count": null,
      "outputs": [
        {
          "output_type": "execute_result",
          "data": {
            "application/vnd.google.colaboratory.intrinsic+json": {
              "type": "string"
            },
            "text/plain": [
              "'I have eaten 99 burritos'"
            ]
          },
          "metadata": {
            "tags": []
          },
          "execution_count": 7
        }
      ]
    }
  ]
}